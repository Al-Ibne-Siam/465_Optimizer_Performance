{
 "cells": [
  {
   "cell_type": "code",
   "execution_count": 36,
   "metadata": {},
   "outputs": [],
   "source": [
    "import os\n",
    "\n",
    "import torch\n",
    "import torch.nn as nn\n",
    "import torch.optim as optim\n",
    "from torchvision import datasets, transforms\n",
    "from torch.utils.data import DataLoader\n",
    "\n",
    "import lightning as pl\n",
    "from lightning.pytorch.callbacks.early_stopping import EarlyStopping\n",
    "from lightning.pytorch.callbacks import ModelCheckpoint\n",
    "from pytorch_lightning.loggers import TensorBoardLogger\n",
    "\n",
    "import matplotlib.pyplot as plt\n",
    "import numpy as np\n",
    "import pandas as pd"
   ]
  },
  {
   "cell_type": "code",
   "execution_count": 13,
   "metadata": {},
   "outputs": [
    {
     "name": "stdout",
     "output_type": "stream",
     "text": [
      "C:\\Users\\Siam\\desktop\\465\\dataset\\train\n"
     ]
    }
   ],
   "source": [
    "root_dir = os.getcwd()\n",
    "train_dir = os.path.join(root_dir, 'dataset', 'train')\n",
    "val_dir = os.path.join(root_dir, 'dataset', 'val')\n",
    "base_model_dir = os.path.join(root_dir, 'base_model')\n",
    "base_model_path = os.path.join(base_model_dir, 'base')\n",
    "print(train_dir)"
   ]
  },
  {
   "cell_type": "code",
   "execution_count": 81,
   "metadata": {},
   "outputs": [],
   "source": [
    "def get_dataloader(img_folder, batch_size, num_workers=2):\n",
    "    \n",
    "    preprocessing_transformation = transforms.Compose([transforms.Resize((128, 128)),\n",
    "                                                       transforms.ToTensor(),\n",
    "                                                       transforms.Normalize(mean=[0.485, 0.456, 0.406], std=[0.229, 0.224, 0.225])\n",
    "                                                       ])\n",
    "    \n",
    "    dataset = datasets.ImageFolder(root=img_folder, transform=preprocessing_transformation)\n",
    "    return DataLoader(dataset, batch_size=batch_size, shuffle=True, num_workers=num_workers, persistent_workers=True)"
   ]
  },
  {
   "cell_type": "code",
   "execution_count": 53,
   "metadata": {},
   "outputs": [],
   "source": [
    "default_config = [8, 'M', 8, 'M', 16, 'M', 16, 'M', 32, 32, 'M', 64, 64, 'M']\n",
    "\n",
    "class CustomVGG(nn.Module):\n",
    "    def __init__(self, num_classes=10, config=default_config):\n",
    "        super(CustomVGG, self).__init__()\n",
    "        self.conv_layers = self.create_conv_layers(config)\n",
    "        self.fc_layers = nn.Sequential(\n",
    "            nn.Linear(64*2*2, 64),\n",
    "            nn.ReLU(),\n",
    "            nn.Dropout(p=0.25),\n",
    "            nn.Linear(64, num_classes),\n",
    "        )\n",
    "\n",
    "    def forward(self, x):\n",
    "      x = self.conv_layers(x)\n",
    "      x = x.reshape(x.shape[0], -1)\n",
    "      return self.fc_layers(x)\n",
    "\n",
    "    def create_conv_layers(self, config):\n",
    "      layers = []\n",
    "      in_channels = 3\n",
    "\n",
    "      for layer in config:\n",
    "\n",
    "          if type(layer) == int:\n",
    "            out_channels = layer\n",
    "            layers.append(nn.Conv2d(in_channels, out_channels,\n",
    "                                    kernel_size=3, stride=1, padding=1))\n",
    "            layers.append(nn.BatchNorm2d(layer))\n",
    "            layers.append(nn.ReLU())\n",
    "            in_channels = layer\n",
    "\n",
    "          else:\n",
    "            layers.append(nn.MaxPool2d(kernel_size=2, stride=2))\n",
    "\n",
    "      return nn.Sequential(*layers)"
   ]
  },
  {
   "cell_type": "code",
   "execution_count": 24,
   "metadata": {},
   "outputs": [],
   "source": [
    "def load_base_model(base_model_path):\n",
    "    model = CustomVGG()\n",
    "    model.load_state_dict(torch.load(base_model_path))\n",
    "    print(f\"Model loaded from {base_model_path}\")\n",
    "    return model"
   ]
  },
  {
   "cell_type": "code",
   "execution_count": 135,
   "metadata": {},
   "outputs": [],
   "source": [
    "class vggTrainer(pl.LightningModule):\n",
    "\n",
    "    def __init__(self, model, train_dir, batch_size, optimizer):\n",
    "        super(vggTrainer, self).__init__()\n",
    "        self.model = model\n",
    "        self.optimizer = optimizer\n",
    "        self.loss_fn = nn.CrossEntropyLoss()\n",
    "        self.train_loader = get_dataloader(train_dir, batch_size, num_workers=2)\n",
    "        self.train_step_losses = []\n",
    "\n",
    "    def forward(self, x):\n",
    "        return self.model(x)\n",
    "\n",
    "    def training_step(self, batch, batch_idx):\n",
    "        x, y = batch\n",
    "        pred = self.forward(x)\n",
    "        loss = self.loss_fn(pred, y)\n",
    "        self.train_step_losses.append(loss.item())\n",
    "        return loss\n",
    "\n",
    "    def train_dataloader(self):\n",
    "        return self.train_loader\n",
    "\n",
    "    def on_train_epoch_end(self):\n",
    "      avg_loss = sum(self.train_step_losses) / len(self.train_step_losses)\n",
    "      self.log('train_loss', avg_loss, on_epoch=True, prog_bar=True)\n",
    "      self.train_step_losses.clear()\n",
    "\n",
    "    def configure_optimizers(self):\n",
    "        scheduler = torch.optim.lr_scheduler.ReduceLROnPlateau(self.optimizer, mode='min', factor=0.5, patience=5, verbose=True)\n",
    "        return {\n",
    "            'optimizer': self.optimizer,\n",
    "            'lr_scheduler': {\n",
    "                'scheduler': scheduler,\n",
    "                'interval': 'epoch',\n",
    "                'monitor': 'train_loss'\n",
    "            },\n",
    "        }"
   ]
  },
  {
   "cell_type": "code",
   "execution_count": 136,
   "metadata": {},
   "outputs": [],
   "source": [
    "early_stopping = EarlyStopping('train_loss', min_delta=0.005, patience=15)\n",
    "checkpoint_callback = ModelCheckpoint(save_top_k=1, save_last=True, monitor=\"train_loss\")"
   ]
  },
  {
   "cell_type": "code",
   "execution_count": 137,
   "metadata": {},
   "outputs": [
    {
     "name": "stderr",
     "output_type": "stream",
     "text": [
      "GPU available: True (cuda), used: True\n",
      "TPU available: False, using: 0 TPU cores\n",
      "IPU available: False, using: 0 IPUs\n",
      "HPU available: False, using: 0 HPUs\n"
     ]
    }
   ],
   "source": [
    "batch_sizes = [16, 24, 32]\n",
    "optimizer_name = \"adam\"\n",
    "\n",
    "for batch_size in batch_sizes:\n",
    "    model = load_base_model(base_model_path)\n",
    "    optimizer = torch.optim.Adam(model.parameters(), lr=0.01)\n",
    "    trainer = vggTrainer(model, train_dir, batch_size, optimizer)\n",
    "    version_name = f\"{optimizer_name}_{batch_size}\"\n",
    "    logger = TensorBoardLogger(save_dir=\"lightning_logs\", name=version_name, version=version_name)\n",
    "    pl_trainer = pl.Trainer(\n",
    "        max_epochs=-1,\n",
    "        callbacks=[early_stopping, checkpoint_callback],\n",
    "        logger=logger\n",
    "    )\n",
    "    pl_trainer.fit(trainer)"
   ]
  }
 ],
 "metadata": {
  "kernelspec": {
   "display_name": "Python 3 (ipykernel)",
   "language": "python",
   "name": "python3"
  }
 },
 "nbformat": 4,
 "nbformat_minor": 2
}
